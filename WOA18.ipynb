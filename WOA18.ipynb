{
 "cells": [
  {
   "cell_type": "code",
   "execution_count": 3,
   "id": "fd8ac273-cdf6-4dbb-b774-a922b4298d72",
   "metadata": {},
   "outputs": [],
   "source": [
    "import netCDF4 as nc\n",
    "import numpy as np\n",
    "import numpy.ma as ma\n",
    "import matplotlib.pyplot as plt"
   ]
  },
  {
   "cell_type": "markdown",
   "id": "e11011ad-b520-4d4f-8b86-bf4ea3ef9e67",
   "metadata": {
    "jp-MarkdownHeadingCollapsed": true
   },
   "source": [
    "## Informações"
   ]
  },
  {
   "cell_type": "markdown",
   "id": "26675424-e2aa-47e2-8ae5-4b9ba1def6b1",
   "metadata": {},
   "source": [
    "**WOA18** <br>\n",
    "**link**: https://www.ncei.noaa.gov/data/oceans/woa/WOA18/DATA/ <br>\n",
    "**Documentation**: https://www.ncei.noaa.gov/sites/default/files/2022-06/woa18documentation.pdf <br>\n",
    "**Product type**: decav81B0 (avarage of six decadal means from 1955 to 2017) <br>\n",
    "**Resolution**: 0.25 <br>\n",
    "**Variables:** <br>\n",
    "sea surface salinity (PSU) <br>\n",
    "temperature (Celsius)"
   ]
  },
  {
   "cell_type": "markdown",
   "id": "6a95cae6-aabd-46a4-af0b-17e96fb87ca7",
   "metadata": {},
   "source": [
    "## Temperature"
   ]
  },
  {
   "cell_type": "markdown",
   "id": "d908fa6c-5e52-4f01-9128-b2d1433d9a85",
   "metadata": {
    "jp-MarkdownHeadingCollapsed": true
   },
   "source": [
    "### temp_month.nc"
   ]
  },
  {
   "cell_type": "code",
   "execution_count": 45,
   "id": "ee9ee6c2-3d66-40ac-988f-09fa12b9dbe0",
   "metadata": {},
   "outputs": [
    {
     "name": "stdout",
     "output_type": "stream",
     "text": [
      "Arquivo temp_mensal.nc criado com sucesso!\n"
     ]
    }
   ],
   "source": [
    "# Lista dos nomes dos arquivos\n",
    "file_names = [f'woa18_decav81B0_t{x:02d}_04.nc' for x in range(1, 13)]\n",
    "\n",
    "# Abrir o primeiro arquivo para obter as dimensões e criar o array final\n",
    "with nc.Dataset(file_names[0]) as ds:\n",
    "    depth = ds.variables['depth'][:]\n",
    "    lat = ds.variables['lat'][:]\n",
    "    lon = ds.variables['lon'][:]\n",
    "    t_shape = ds.variables['t_an'].shape  # (T(1), Z, Y, X)\n",
    "\n",
    "# Inicializa o array final com dimensões (T(12), Z, Y, X)\n",
    "t_mensal = np.zeros((12, t_shape[1], t_shape[2], t_shape[3]))\n",
    "\n",
    "# Loop para abrir cada arquivo e preencher o array final\n",
    "for i, file_name in enumerate(file_names):\n",
    "    with nc.Dataset(file_name) as ds:\n",
    "        t_mensal[i] = ds.variables['t_an'][0]  # Extrai a variável t_an do tempo único\n",
    "\n",
    "# Criar um novo arquivo NetCDF para salvar a variável combinada\n",
    "with nc.Dataset('temp_month.nc', 'w', format='NETCDF4') as ds_out:\n",
    "    # Criar dimensões\n",
    "    ds_out.createDimension('T', 12)\n",
    "    ds_out.createDimension('Z', t_shape[1])\n",
    "    ds_out.createDimension('Y', t_shape[2])\n",
    "    ds_out.createDimension('X', t_shape[3])\n",
    "    \n",
    "    # Criar variáveis\n",
    "    T = ds_out.createVariable('T', 'i4', ('T',))\n",
    "    Z = ds_out.createVariable('Z', 'f4', ('Z',))\n",
    "    Y = ds_out.createVariable('Y', 'f4', ('Y',))\n",
    "    X = ds_out.createVariable('X', 'f4', ('X',))\n",
    "    temperature = ds_out.createVariable('temperature', 'f4', ('T', 'Z', 'Y', 'X',))\n",
    "\n",
    "    T.long_name = 'Time'\n",
    "    T.units = 'months'\n",
    "    Z.long_name = 'Depth'\n",
    "    Z.units = 'm'\n",
    "    Y.long_name = 'latitude'\n",
    "    Y.units = 'degree_north'\n",
    "    X.long_name = 'longitude'\n",
    "    X.units = 'degree_east'\n",
    "\n",
    "    temperature.long_name = 'temperature'\n",
    "    temperature.units = 'Celsius'\n",
    "    temperature.missing_value = 9.969209968386869e+36\n",
    "    \n",
    "    \n",
    "    # Atribuir dados às variáveis\n",
    "    T[:] = np.arange(1, 13)\n",
    "    Z[:] = depth\n",
    "    Y[:] = lat\n",
    "    X[:] = lon\n",
    "    temperature[:] = t_mensal\n",
    "\n",
    "print(\"Arquivo temp_mensal.nc criado com sucesso!\")"
   ]
  },
  {
   "cell_type": "markdown",
   "id": "282e7df5-d7d1-461e-b690-6820d444aac7",
   "metadata": {},
   "source": [
    "### temp_seas.nc"
   ]
  },
  {
   "cell_type": "code",
   "execution_count": 49,
   "id": "948832fc-451e-4d56-b354-0692ed83812b",
   "metadata": {},
   "outputs": [
    {
     "name": "stdout",
     "output_type": "stream",
     "text": [
      "Arquivo temp_seas.nc criado com sucesso!\n"
     ]
    }
   ],
   "source": [
    "# Lista dos nomes dos arquivos\n",
    "file_names = [f'woa18_decav81B0_t{x:02d}_04.nc' for x in range(13, 16)]\n",
    "\n",
    "# Abrir o primeiro arquivo para obter as dimensões e criar o array final\n",
    "with nc.Dataset(file_names[0]) as ds:\n",
    "    depth = ds.variables['depth'][:]\n",
    "    lat = ds.variables['lat'][:]\n",
    "    lon = ds.variables['lon'][:]\n",
    "    t_shape = ds.variables['t_an'].shape  # (T(1), Z, Y, X)\n",
    "\n",
    "# Inicializa o array final com dimensões (T(12), Z, Y, X)\n",
    "t_seas = np.zeros((4, t_shape[1], t_shape[2], t_shape[3]))\n",
    "\n",
    "# Loop para abrir cada arquivo e preencher o array final\n",
    "for i, file_name in enumerate(file_names):\n",
    "    with nc.Dataset(file_name) as ds:\n",
    "        t_seas[i] = ds.variables['t_an'][0]  # Extrai a variável t_an do tempo único\n",
    "\n",
    "# Criar um novo arquivo NetCDF para salvar a variável combinada\n",
    "with nc.Dataset('temp_seas.nc', 'w', format='NETCDF4') as ds_out:\n",
    "    # Criar dimensões\n",
    "    ds_out.createDimension('T', 4)\n",
    "    ds_out.createDimension('Z', t_shape[1])\n",
    "    ds_out.createDimension('Y', t_shape[2])\n",
    "    ds_out.createDimension('X', t_shape[3])\n",
    "    \n",
    "    # Criar variáveis\n",
    "    T = ds_out.createVariable('T', 'i4', ('T',))\n",
    "    Z = ds_out.createVariable('Z', 'f4', ('Z',))\n",
    "    Y = ds_out.createVariable('Y', 'f4', ('Y',))\n",
    "    X = ds_out.createVariable('X', 'f4', ('X',))\n",
    "    temperature = ds_out.createVariable('temperature', 'f4', ('T', 'Z', 'Y', 'X',))\n",
    "\n",
    "    T.long_name = 'Time'\n",
    "    T.units = 'months'\n",
    "    Z.long_name = 'Depth'\n",
    "    Z.units = 'm'\n",
    "    Y.long_name = 'latitude'\n",
    "    Y.units = 'degree_north'\n",
    "    X.long_name = 'longitude'\n",
    "    X.units = 'degree_east'\n",
    "\n",
    "    temperature.long_name = 'temperature'\n",
    "    temperature.units = 'Celsius'\n",
    "    temperature.missing_value = 9.969209968386869e+36\n",
    "    # Atribuir dados às variáveis\n",
    "    T[:] = np.arange(1, 5)\n",
    "    Z[:] = depth\n",
    "    Y[:] = lat\n",
    "    X[:] = lon\n",
    "    temperature[:] = t_seas\n",
    "\n",
    "print(\"Arquivo temp_seas.nc criado com sucesso!\")"
   ]
  },
  {
   "cell_type": "markdown",
   "id": "5a29f394-60a1-48a7-b606-275335a34738",
   "metadata": {},
   "source": [
    "### temp_ann.nc"
   ]
  },
  {
   "cell_type": "code",
   "execution_count": 5,
   "id": "d09f01b1-22af-407f-ba34-0ce1b75de1d4",
   "metadata": {},
   "outputs": [
    {
     "name": "stdout",
     "output_type": "stream",
     "text": [
      "Arquivo temp_ann.nc criado com sucesso!\n"
     ]
    }
   ],
   "source": [
    "# Lista dos nomes dos arquivos\n",
    "dataset = nc.Dataset('woa18_decav81B0_t00_04.nc')\n",
    "depth = dataset['depth'][:]\n",
    "lat = dataset['lat'][:]\n",
    "lon = dataset['lon'][:]\n",
    "t_an = dataset['t_an'][:,:,:,:]\n",
    "t_shape = t_an.shape\n",
    "\n",
    "# Criando o arquivo NetCDF\n",
    "ncid = nc.Dataset('temp_ann.nc', 'w', format='NETCDF4')\n",
    "\n",
    "# Definindo as dimensões\n",
    "z_dim = ncid.createDimension('Z', t_shape[1])  # Dimensão temporal\n",
    "lat_dim = ncid.createDimension('Y', t_shape[2])  # Dimensão latitudinal\n",
    "lon_dim = ncid.createDimension('X', t_shape[3])  # Dimensão longitudinal\n",
    "\n",
    "# Criando as variáveis associadas às dimensões\n",
    "Z = ncid.createVariable('Z', np.float64, ('Z',))\n",
    "Y = ncid.createVariable('Y', np.float32, ('Y',))\n",
    "X = ncid.createVariable('X', np.float32, ('X',))\n",
    "\n",
    "Z.long_name = 'Depth'\n",
    "Z.units = 'm'\n",
    "Y.long_name = 'latitude'\n",
    "Y.units = 'degree_north'\n",
    "X.long_name = 'longitude'\n",
    "X.units = 'degree_east'\n",
    "\n",
    "# Atribuindo dados às variáveis de dimensão\n",
    "Z[:] = depth\n",
    "Y[:] = lat\n",
    "X[:] = lon\n",
    "\n",
    "# Criando uma variável de dados com as dimensões definidas\n",
    "temperature = ncid.createVariable('temperature', np.float32, ('Z', 'Y', 'X',))\n",
    "temperature[:] = t_an\n",
    "\n",
    "temperature.long_name = 'temperature'\n",
    "temperature.units = 'Celsius'\n",
    "temperature.missing_value = 9.969209968386869e+36\n",
    "\n",
    "print(\"Arquivo temp_ann.nc criado com sucesso!\")"
   ]
  },
  {
   "cell_type": "markdown",
   "id": "83123fc4-b15e-43ed-95eb-db5709f3118c",
   "metadata": {},
   "source": [
    "## Salinity"
   ]
  },
  {
   "cell_type": "markdown",
   "id": "34c3f615-2b3b-4fc6-b0c6-4486d8f9db46",
   "metadata": {},
   "source": [
    "### salt_month.nc"
   ]
  },
  {
   "cell_type": "code",
   "execution_count": 7,
   "id": "a62b80ea-28e6-440d-8a9e-1c67cfa8bbcf",
   "metadata": {},
   "outputs": [
    {
     "name": "stdout",
     "output_type": "stream",
     "text": [
      "Arquivo salt_month.nc criado com sucesso!\n"
     ]
    }
   ],
   "source": [
    "# Lista dos nomes dos arquivos\n",
    "file_names = [f'woa18_decav81B0_s{x:02d}_04.nc' for x in range(1, 13)]\n",
    "\n",
    "# Abrir o primeiro arquivo para obter as dimensões e criar o array final\n",
    "with nc.Dataset(file_names[0]) as ds:\n",
    "    depth = ds.variables['depth'][:]\n",
    "    lat = ds.variables['lat'][:]\n",
    "    lon = ds.variables['lon'][:]\n",
    "    s_shape = ds.variables['s_an'].shape  # (T(1), Z, Y, X)\n",
    "\n",
    "# Inicializa o array final com dimensões (T(12), Z, Y, X)\n",
    "s_mensal = np.zeros((12, s_shape[1], s_shape[2], s_shape[3]))\n",
    "\n",
    "# Loop para abrir cada arquivo e preencher o array final\n",
    "for i, file_name in enumerate(file_names):\n",
    "    with nc.Dataset(file_name) as ds:\n",
    "        s_mensal[i] = ds.variables['s_an'][0]  # Extrai a variável t_an do tempo único\n",
    "\n",
    "# Criar um novo arquivo NetCDF para salvar a variável combinada\n",
    "with nc.Dataset('salt_month.nc', 'w', format='NETCDF4') as ds_out:\n",
    "    # Criar dimensões\n",
    "    ds_out.createDimension('T', 12)\n",
    "    ds_out.createDimension('Z', s_shape[1])\n",
    "    ds_out.createDimension('Y', s_shape[2])\n",
    "    ds_out.createDimension('X', s_shape[3])\n",
    "    \n",
    "    # Criar variáveis\n",
    "    T = ds_out.createVariable('T', 'i4', ('T',))\n",
    "    Z = ds_out.createVariable('Z', 'f4', ('Z',))\n",
    "    Y = ds_out.createVariable('Y', 'f4', ('Y',))\n",
    "    X = ds_out.createVariable('X', 'f4', ('X',))\n",
    "    salinity = ds_out.createVariable('salinity', 'f4', ('T', 'Z', 'Y', 'X',))\n",
    "\n",
    "    T.long_name = 'Time'\n",
    "    T.units = 'months'\n",
    "    Z.long_name = 'Depth'\n",
    "    Z.units = 'm'\n",
    "    Y.long_name = 'latitude'\n",
    "    Y.units = 'degree_north'\n",
    "    X.long_name = 'longitude'\n",
    "    X.units = 'degree_east'\n",
    "\n",
    "    salinity.long_name = 'salinity'\n",
    "    salinity.units = 'PSU'\n",
    "    salinity.missing_value = 9.969209968386869e+36\n",
    "    \n",
    "    \n",
    "    # Atribuir dados às variáveis\n",
    "    T[:] = np.arange(1, 13)\n",
    "    Z[:] = depth\n",
    "    Y[:] = lat\n",
    "    X[:] = lon\n",
    "    salinity[:] = s_mensal\n",
    "\n",
    "print(\"Arquivo salt_month.nc criado com sucesso!\")"
   ]
  },
  {
   "cell_type": "markdown",
   "id": "58397c40-8f50-4b73-a7d0-a7f4ed9e793c",
   "metadata": {},
   "source": [
    "### salt_seas.nc"
   ]
  },
  {
   "cell_type": "code",
   "execution_count": 11,
   "id": "4488a5c3-2758-4103-961e-707d28b0cc4d",
   "metadata": {},
   "outputs": [
    {
     "name": "stdout",
     "output_type": "stream",
     "text": [
      "Arquivo salt_seas.nc criado com sucesso!\n"
     ]
    }
   ],
   "source": [
    "# Lista dos nomes dos arquivos\n",
    "file_names = [f'woa18_decav81B0_s{x:02d}_04.nc' for x in range(13, 16)]\n",
    "\n",
    "# Abrir o primeiro arquivo para obter as dimensões e criar o array final\n",
    "with nc.Dataset(file_names[0]) as ds:\n",
    "    depth = ds.variables['depth'][:]\n",
    "    lat = ds.variables['lat'][:]\n",
    "    lon = ds.variables['lon'][:]\n",
    "    s_shape = ds.variables['s_an'].shape  # (T(1), Z, Y, X)\n",
    "\n",
    "# Inicializa o array final com dimensões (T(12), Z, Y, X)\n",
    "s_seas = np.zeros((4, s_shape[1], s_shape[2], s_shape[3]))\n",
    "\n",
    "# Loop para abrir cada arquivo e preencher o array final\n",
    "for i, file_name in enumerate(file_names):\n",
    "    with nc.Dataset(file_name) as ds:\n",
    "        s_seas[i] = ds.variables['s_an'][0]  # Extrai a variável t_an do tempo único\n",
    "\n",
    "# Criar um novo arquivo NetCDF para salvar a variável combinada\n",
    "with nc.Dataset('salt_seas.nc', 'w', format='NETCDF4') as ds_out:\n",
    "    # Criar dimensões\n",
    "    ds_out.createDimension('T', 4)\n",
    "    ds_out.createDimension('Z', s_shape[1])\n",
    "    ds_out.createDimension('Y', s_shape[2])\n",
    "    ds_out.createDimension('X', s_shape[3])\n",
    "    \n",
    "    # Criar variáveis\n",
    "    T = ds_out.createVariable('T', 'i4', ('T',))\n",
    "    Z = ds_out.createVariable('Z', 'f4', ('Z',))\n",
    "    Y = ds_out.createVariable('Y', 'f4', ('Y',))\n",
    "    X = ds_out.createVariable('X', 'f4', ('X',))\n",
    "    salinity = ds_out.createVariable('salinity', 'f4', ('T', 'Z', 'Y', 'X',))\n",
    "\n",
    "    T.long_name = 'Time'\n",
    "    T.units = 'months'\n",
    "    Z.long_name = 'Depth'\n",
    "    Z.units = 'm'\n",
    "    Y.long_name = 'latitude'\n",
    "    Y.units = 'degree_north'\n",
    "    X.long_name = 'longitude'\n",
    "    X.units = 'degree_east'\n",
    "\n",
    "    salinity.long_name = 'salinity'\n",
    "    salinity.units = 'PSU'\n",
    "    salinity.missing_value = 9.969209968386869e+36\n",
    "    \n",
    "    \n",
    "    # Atribuir dados às variáveis\n",
    "    T[:] = np.arange(1, 5)\n",
    "    Z[:] = depth\n",
    "    Y[:] = lat\n",
    "    X[:] = lon\n",
    "    salinity[:] = s_seas\n",
    "\n",
    "print(\"Arquivo salt_seas.nc criado com sucesso!\")"
   ]
  },
  {
   "cell_type": "markdown",
   "id": "bd4e582e-fba2-4324-a264-bea1f9b128fd",
   "metadata": {},
   "source": [
    "### salt_ann.nc"
   ]
  },
  {
   "cell_type": "code",
   "execution_count": 12,
   "id": "594e1915-6a0e-4b69-abda-0c3f6595dfb2",
   "metadata": {},
   "outputs": [
    {
     "name": "stdout",
     "output_type": "stream",
     "text": [
      "Arquivo salt_ann.nc criado com sucesso!\n"
     ]
    }
   ],
   "source": [
    "# Lista dos nomes dos arquivos\n",
    "dataset = nc.Dataset('woa18_decav81B0_s00_04.nc')\n",
    "depth = dataset['depth'][:]\n",
    "lat = dataset['lat'][:]\n",
    "lon = dataset['lon'][:]\n",
    "s_an = dataset['s_an'][:,:,:,:]\n",
    "s_shape = s_an.shape\n",
    "\n",
    "# Criando o arquivo NetCDF\n",
    "ncid = nc.Dataset('salt_ann.nc', 'w', format='NETCDF4')\n",
    "\n",
    "# Definindo as dimensões\n",
    "z_dim = ncid.createDimension('Z', s_shape[1])  # Dimensão temporal\n",
    "lat_dim = ncid.createDimension('Y', s_shape[2])  # Dimensão latitudinal\n",
    "lon_dim = ncid.createDimension('X', s_shape[3])  # Dimensão longitudinal\n",
    "\n",
    "# Criando as variáveis associadas às dimensões\n",
    "Z = ncid.createVariable('Z', np.float64, ('Z',))\n",
    "Y = ncid.createVariable('Y', np.float32, ('Y',))\n",
    "X = ncid.createVariable('X', np.float32, ('X',))\n",
    "\n",
    "Z.long_name = 'Dpeth'\n",
    "Z.units = 'm'\n",
    "Y.long_name = 'latitude'\n",
    "Y.units = 'degree_north'\n",
    "X.long_name = 'longitude'\n",
    "X.units = 'degree_east'\n",
    "\n",
    "# Atribuindo dados às variáveis de dimensão\n",
    "Z[:] = depth\n",
    "Y[:] = lat\n",
    "X[:] = lon\n",
    "\n",
    "# Criando uma variável de dados com as dimensões definidas\n",
    "salinity = ncid.createVariable('salinity', np.float32, ('Z', 'Y', 'X',))\n",
    "salinity[:] = s_an\n",
    "\n",
    "salinity.long_name = 'salinity'\n",
    "salinity.units = 'PSU'\n",
    "salinity.missing_value = 9.969209968386869e+36\n",
    "\n",
    "print(\"Arquivo salt_ann.nc criado com sucesso!\")"
   ]
  }
 ],
 "metadata": {
  "kernelspec": {
   "display_name": "Python 3 (ipykernel)",
   "language": "python",
   "name": "python3"
  },
  "language_info": {
   "codemirror_mode": {
    "name": "ipython",
    "version": 3
   },
   "file_extension": ".py",
   "mimetype": "text/x-python",
   "name": "python",
   "nbconvert_exporter": "python",
   "pygments_lexer": "ipython3",
   "version": "3.12.4"
  }
 },
 "nbformat": 4,
 "nbformat_minor": 5
}
